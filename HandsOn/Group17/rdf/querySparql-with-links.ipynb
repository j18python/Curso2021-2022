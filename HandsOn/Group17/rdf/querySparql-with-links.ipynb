{
 "cells": [
  {
   "cell_type": "code",
   "execution_count": 39,
   "metadata": {
    "colab": {
     "base_uri": "https://localhost:8080/"
    },
    "id": "J0TlH_hssM0n",
    "outputId": "5344cdec-2ebe-467a-9bd1-0434734514d8"
   },
   "outputs": [
    {
     "name": "stdout",
     "output_type": "stream",
     "text": [
      "Requirement already satisfied: rdflib in d:\\programdata\\anaconda3\\lib\\site-packages (6.0.2)\n",
      "Requirement already satisfied: pyparsing in d:\\programdata\\anaconda3\\lib\\site-packages (from rdflib) (2.4.6)\n",
      "Requirement already satisfied: isodate in d:\\programdata\\anaconda3\\lib\\site-packages (from rdflib) (0.6.0)\n",
      "Requirement already satisfied: setuptools in d:\\programdata\\anaconda3\\lib\\site-packages (from rdflib) (45.2.0.post20200210)\n",
      "Requirement already satisfied: six in d:\\programdata\\anaconda3\\lib\\site-packages (from isodate->rdflib) (1.14.0)\n",
      "(rdflib.term.URIRef('http://transporteMad.example.org/Ontology/TipodeReserva/BiciMAD'),)\n",
      "(rdflib.term.URIRef('http://transporteMad.example.org/Ontology/Distrito/Centro'),)\n",
      "(rdflib.term.URIRef('http://transporteMad.example.org/Ontology/Distrito/Chamber%C3%AD'),)\n",
      "(rdflib.term.URIRef('http://transporteMad.example.org/Ontology/Distrito/Moncloa-Aravaca'),)\n",
      "(rdflib.term.URIRef('http://transporteMad.example.org/Ontology/Distrito/Arganzuela'),)\n",
      "(rdflib.term.URIRef('http://transporteMad.example.org/Ontology/Distrito/Retiro'),)\n",
      "(rdflib.term.URIRef('http://transporteMad.example.org/Ontology/Distrito/Salamanca'),)\n",
      "(rdflib.term.URIRef('http://transporteMad.example.org/Ontology/Distrito/Tetu%C3%A1n'),)\n",
      "(rdflib.term.URIRef('http://transporteMad.example.org/Ontology/Distrito/Chamart%C3%ADn'),)\n",
      "(rdflib.term.URIRef('http://transporteMad.example.org/Ontology/Distrito/Villa%20de%20Vallecas'),)\n",
      "(rdflib.term.URIRef('http://transporteMad.example.org/Ontology/Distrito/Ciudad%20Lineal'),)\n",
      "(rdflib.term.URIRef('http://transporteMad.example.org/Ontology/Distrito/Carabanchel'),)\n",
      "(rdflib.term.URIRef('http://transporteMad.example.org/Ontology/Distrito/Usera'),)\n",
      "(rdflib.term.URIRef('http://transporteMad.example.org/Ontology/Distrito/Latina'),)\n",
      "(rdflib.term.URIRef('http://transporteMad.example.org/Ontology/Distrito/Fuencarral-El%20Pardo'),)\n",
      "(rdflib.term.URIRef('http://transporteMad.example.org/Ontology/Distrito/Moratalaz'),)\n"
     ]
    }
   ],
   "source": [
    "!pip install rdflib \n",
    "from rdflib import Graph, Namespace, Literal\n",
    "from rdflib.namespace import RDF, RDFS, OWL\n",
    "g = Graph()\n",
    "g.namespace_manager.bind('dbr', Namespace(\"http://transporteMad.example.org#\"), override=False)\n",
    "g.namespace_manager.bind('dbo', Namespace(\"http://transporteMad.example.org/Ontology/\"), override=False)\n",
    "g.namespace_manager.bind('owl', OWL, override=False)\n",
    "dbr =  Namespace(\"http://transporteMad.example.org#\")\n",
    "dbo = Namespace(\"http://transporteMad.example.org/Ontology/\")\n",
    "res = Namespace(\"http://transporteMad.example.org#\")\n",
    "g.parse(\"C:\\\\Users\\\\Pablo\\\\Downloads\\\\output (3).nt\", format=\"nt\")\n",
    "from rdflib.plugins.sparql import prepareQuery\n",
    "\n",
    "\n",
    "q1 = prepareQuery('''\n",
    "  SELECT ?Numero WHERE {\n",
    "    ?Numero rdf:type dbr:Barrio.\n",
    "    ?Numero owl:sameAs <valor>\n",
    "    }\n",
    "    ''',\n",
    "    initNs = {\"rdfs\": RDFS,\"dbr\": dbr,\"rdf\": RDF, 'owl': OWL}\n",
    ")\n",
    "\n",
    "for r in g.query(q1):\n",
    "  print(r)\n",
    "\n",
    "q2 = prepareQuery('''\n",
    "  SELECT ?Numero WHERE {\n",
    "    ?Numero rdf:type dbr:TipodeReserva.\n",
    "    ?Numero owl:sameAs <valor>\n",
    "    }\n",
    "    ''',\n",
    "    initNs = {\"rdfs\": RDFS,\"dbr\": dbr,\"rdf\": RDF, 'owl': OWL}\n",
    ")\n",
    "\n",
    "for r in g.query(q2):\n",
    "  print(r)\n",
    "\n",
    "q3 = prepareQuery('''\n",
    "  SELECT ?Numero WHERE {\n",
    "    ?Numero rdf:type dbr:Distrito.\n",
    "    ?Numero owl:sameAs <valor>\n",
    "    }\n",
    "    ''',\n",
    "    initNs = {\"rdfs\": RDFS,\"dbr\": dbr,\"rdf\": RDF, 'owl': OWL}\n",
    ")\n",
    "\n",
    "for r in g.query(q3):\n",
    "  print(r)\n",
    "\n"
   ]
  },
  {
   "cell_type": "raw",
   "metadata": {},
   "source": []
  },
  {
   "cell_type": "code",
   "execution_count": null,
   "metadata": {},
   "outputs": [],
   "source": []
  }
 ],
 "metadata": {
  "colab": {
   "collapsed_sections": [],
   "name": "querySparql.ipynb",
   "provenance": []
  },
  "kernelspec": {
   "display_name": "Python 3",
   "language": "python",
   "name": "python3"
  },
  "language_info": {
   "codemirror_mode": {
    "name": "ipython",
    "version": 3
   },
   "file_extension": ".py",
   "mimetype": "text/x-python",
   "name": "python",
   "nbconvert_exporter": "python",
   "pygments_lexer": "ipython3",
   "version": "3.8.3"
  }
 },
 "nbformat": 4,
 "nbformat_minor": 1
}
